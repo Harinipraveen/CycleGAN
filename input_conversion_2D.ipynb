{
 "cells": [
  {
   "cell_type": "code",
   "execution_count": 1,
   "metadata": {},
   "outputs": [],
   "source": [
    "import pandas as pd\n",
    "import numpy as np\n",
    "import struct\n",
    "import glob\n",
    "import os\n",
    "import cv2\n",
    "from matplotlib import pyplot\n",
    "import matplotlib.pyplot as plt"
   ]
  },
  {
   "cell_type": "code",
   "execution_count": 2,
   "metadata": {},
   "outputs": [],
   "source": [
    "from PIL import Image"
   ]
  },
  {
   "cell_type": "code",
   "execution_count": 3,
   "metadata": {},
   "outputs": [],
   "source": [
    "import warnings\n",
    "warnings.simplefilter(\"ignore\", FutureWarning)"
   ]
  },
  {
   "cell_type": "code",
   "execution_count": 12,
   "metadata": {},
   "outputs": [
    {
     "data": {
      "image/png": "[encoded data removed]",
      "text/plain": [
       "<Figure size 432x288 with 1 Axes>"
      ]
     },
     "metadata": {},
     "output_type": "display_data"
    }
   ],
   "source": [
    "#for a group of files:\n",
    "#reading from set and saving to raw_inputs folder\n",
    "i=1\n",
    "filepath =r\"C:\\Users\\Harini Pravin\\Downloads\\Disior\\set1\"\n",
    "list_of_files = glob.glob(os.path.join(filepath,'*.raw'))\n",
    "for file_name in list_of_files: \n",
    "        with open(file_name, \"rb\") as f:\n",
    "            fileContent = f.read()\n",
    "            im = struct.unpack(\"H\" * (len(fileContent)//2), fileContent)\n",
    "            im = np.reshape(im, (748,940))\n",
    "            plt.hist(im.ravel(),bins=50)\n",
    "            im = Image.fromarray(np.uint16(im))\n",
    "            im.save(r\"C:\\Users\\Harini Pravin\\Downloads\\Disior\\raw_input3\\input\"+str(i)+\".png\")\n",
    "            i=i+1"
   ]
  },
  {
   "cell_type": "code",
   "execution_count": 4,
   "metadata": {},
   "outputs": [],
   "source": [
    "from skimage.transform import rotate,rescale,resize\n",
    "from skimage.exposure import equalize_adapthist,adjust_gamma\n",
    "from skimage.color import rgb2gray,gray2rgb\n",
    "from skimage import util\n",
    "from skimage.restoration import denoise_wavelet"
   ]
  },
  {
   "cell_type": "code",
   "execution_count": 10,
   "metadata": {},
   "outputs": [],
   "source": [
    "#defining a function to enhance the raw_inputs\n",
    "def enhance_img(in_img):\n",
    "    img_rszd = resize(in_img,(940,748),anti_aliasing=True)\n",
    "    #img_rote = rotate(img_rszd,-180) \n",
    "    img_grayscale = gray2rgb(img_rszd)\n",
    "    inverted_img = util.invert(img_grayscale)\n",
    "    #gamma_img = adjust_gamma(img_grayscale, gamma=1, gain=1)\n",
    "    img_mod = equalize_adapthist(inverted_img,clip_limit=0.03)\n",
    "    img_final= denoise_wavelet(img_mod, multichannel=True, rescale_sigma=True)\n",
    "    return img_final"
   ]
  },
  {
   "cell_type": "code",
   "execution_count": 13,
   "metadata": {},
   "outputs": [],
   "source": [
    "#reading raw images,pre-enhancement and saving to final_inputs folder\n",
    "n=1\n",
    "filepath =r\"C:\\Users\\Harini Pravin\\Downloads\\Disior\\raw_input2\"\n",
    "list_of_files = glob.glob(os.path.join(filepath,'*.png'))\n",
    "for file_name in list_of_files: \n",
    "    test_img = cv2.imread(file_name)\n",
    "    target = enhance_img(test_img)\n",
    "    #cv2.imshow('image',final_input)\n",
    "    #cv2.waitKey(0)\n",
    "    #cv2.destroyAllWindows()\n",
    "    cv2.imwrite(r\"C:\\Users\\Harini Pravin\\Downloads\\Disior\\tt_images\\target\"+str(n)+\".png\",target*255)\n",
    "    n=n+1\n",
    "    #final_input = Image.fromarray(np.uint16(final_input))\n",
    "    #final_input.save(r\"C:\\Users\\Harini Pravin\\Downloads\\Disior\\final_inputs\\final_input\"+str(n)+\".png\")\n",
    "        "
   ]
  },
  {
   "cell_type": "code",
   "execution_count": null,
   "metadata": {},
   "outputs": [],
   "source": []
  }
 ],
 "metadata": {
  "kernelspec": {
   "display_name": "Python 3",
   "language": "python",
   "name": "python3"
  },
  "language_info": {
   "codemirror_mode": {
    "name": "ipython",
    "version": 3
   },
   "file_extension": ".py",
   "mimetype": "text/x-python",
   "name": "python",
   "nbconvert_exporter": "python",
   "pygments_lexer": "ipython3",
   "version": "3.6.5"
  }
 },
 "nbformat": 4,
 "nbformat_minor": 2
}
